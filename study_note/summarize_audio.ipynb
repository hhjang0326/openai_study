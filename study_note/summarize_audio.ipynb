{
 "cells": [
  {
   "cell_type": "code",
   "execution_count": null,
   "metadata": {
    "collapsed": true
   },
   "outputs": [],
   "source": [
    "### 레퍼런스\n",
    "#- API Reference: https://platform.openai.com/docs/api-reference/audio/createTranscription\n",
    "from openai import OpenAI\n",
    "import os\n",
    "from dotenv import load_dotenv\n",
    "\n",
    "# 환경 변수 로드\n",
    "load_dotenv()\n",
    "\n",
    "# OpenAI 클라이언트 전역 변수 선언\n",
    "client = OpenAI(api_key=os.getenv(\"OPENAI_API_KEY\"))\n",
    "\n",
    "def transcribe(audio_filepath, file_name, topics):\n",
    "    #오디오 파일을 텍스트로 변환\n",
    "    full_path = os.path.join(audio_filepath, file_name)\n",
    "    with open(full_path, \"rb\") as audio_file:\n",
    "        transcription = client.audio.transcriptions.create(\n",
    "            model=\"whisper-1\",\n",
    "            file=audio_file,\n",
    "            prompt=topics,\n",
    "        )\n",
    "    return transcription.text\n",
    "\n",
    "def generate_prompt_from_filename(filename):\n",
    "    #파일명에서 프롬프트를 생성\n",
    "    base_name = os.path.basename(filename)\n",
    "    name_without_extension = os.path.splitext(base_name)[0]\n",
    "    return name_without_extension.replace('_', '와 ')\n",
    "\n",
    "def generate_prompt_from_user_input():\n",
    "    #사용자 입력으로부터 프롬프트를 생성\n",
    "    user_input = input(\"회의 주제: \")\n",
    "    return f\"너는 회의록을 정리하는 팀원이야. 회의록의 핵심 내용을 정리해줘. 회의 주제는 {user_input}이야.\"\n",
    "\n",
    "\n",
    "\n",
    "def generate_corrected_transcript(transcribed_text, prompt):\n",
    "    #텍스트를 요약하여 정리된 회의록을 생성\n",
    "    completion = client.chat.completions.create(\n",
    "        model=\"gpt-3.5-turbo\",\n",
    "        temperature=0.5,\n",
    "        messages=[\n",
    "            {\"role\": \"system\", \"content\": prompt},\n",
    "            {\"role\": \"user\", \"content\": transcribed_text}\n",
    "        ],\n",
    "    )\n",
    "    return completion.choices[0].message.content\n",
    "\n",
    "def main():\n",
    "    audio_filepath = \"../data\"\n",
    "    file_name = \"company_meeting_stock_lunch.m4a\"\n",
    "    prompt = generate_prompt_from_filename(file_name)\n",
    "    system_prompt = generate_prompt_from_user_input()\n",
    "\n",
    "    transcribed_text = transcribe(audio_filepath, file_name, prompt)\n",
    "    corrected_text = generate_corrected_transcript(transcribed_text, system_prompt)\n",
    "\n",
    "    print(corrected_text)\n",
    "\n",
    "if __name__ == \"__main__\":\n",
    "    main()"
   ]
  }
 ],
 "metadata": {
  "kernelspec": {
   "display_name": "Python 3",
   "language": "python",
   "name": "python3"
  },
  "language_info": {
   "codemirror_mode": {
    "name": "ipython",
    "version": 2
   },
   "file_extension": ".py",
   "mimetype": "text/x-python",
   "name": "python",
   "nbconvert_exporter": "python",
   "pygments_lexer": "ipython2",
   "version": "2.7.6"
  }
 },
 "nbformat": 4,
 "nbformat_minor": 0
}